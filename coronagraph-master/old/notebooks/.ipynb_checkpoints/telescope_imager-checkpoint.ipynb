{
 "cells": [
  {
   "cell_type": "code",
   "execution_count": 1,
   "metadata": {
    "collapsed": true
   },
   "outputs": [],
   "source": [
    "%matplotlib inline\n",
    "import os\n",
    "import numpy as np\n",
    "import scipy as sp\n",
    "import scipy.optimize\n",
    "import matplotlib as mpl\n",
    "import matplotlib.pyplot as plt\n",
    "from matplotlib import gridspec\n",
    "from matplotlib import rc\n",
    "from astroML.plotting import setup_text_plots\n",
    "import pdb\n",
    "setup_text_plots(fontsize=25, usetex=True)\n",
    "\n",
    "rc('font', **{'family': 'serif', 'serif': ['Computer Modern']})\n",
    "mpl.rcParams['font.size'] = 25.0"
   ]
  },
  {
   "cell_type": "code",
   "execution_count": 5,
   "metadata": {
    "collapsed": false
   },
   "outputs": [],
   "source": [
    "class Filter(object):\n",
    "    \n",
    "    def __init__(self, name=None, bandcenter=None, FWHM=None, wl=None, response=None, notes=''):\n",
    "        self.name=name\n",
    "        self.bandcenter=bandcenter\n",
    "        self.FWHM=FWHM\n",
    "        self.wl=wl\n",
    "        self.response=response\n",
    "        self.notes=notes\n",
    "        \n",
    "    def __str__(self):\n",
    "        string = 'Filter: \\n------------\\n'+\\\n",
    "            '- Name : '+\"%s\" % (self.name)+'\\n'+\\\n",
    "            '- Bandcenter (um)  : '+\"%s\" % (self.bandcenter)+'\\n'+\\\n",
    "            '- Full width at half max (um)  : '+\"%s\" % (self.FWHM)+'\\n'+\\\n",
    "            '- Wavelength array (um)  : '+\"%s\" % (self.wl)+'\\n'+\\\n",
    "            '- Response : '+\"%s\" % (self.response)+'\\n'+\\\n",
    "            '- Notes  : '+\"%s\" % (self.notes)+'\\n'\n",
    "        return string"
   ]
  },
  {
   "cell_type": "code",
   "execution_count": 6,
   "metadata": {
    "collapsed": true
   },
   "outputs": [],
   "source": [
    "U = Filter(name='U', bandcenter=365.6, FWHM=34.0)"
   ]
  },
  {
   "cell_type": "code",
   "execution_count": 48,
   "metadata": {
    "collapsed": true
   },
   "outputs": [],
   "source": [
    "def read_jc():\n",
    "    U = np.genfromtxt('coronagraph/filters/UBVRI/bess-u.pass')\n",
    "    U[:,0] = U[:,0]/1e4\n",
    "    B = np.genfromtxt('coronagraph/filters/UBVRI/bess-b.pass')\n",
    "    B[:,0] = B[:,0]/1e4\n",
    "    V = np.genfromtxt('coronagraph/filters/UBVRI/bess-v.pass')\n",
    "    V[:,0] = V[:,0]/1e4\n",
    "    R = np.genfromtxt('coronagraph/filters/UBVRI/bess-r.pass')\n",
    "    R[:,0] = R[:,0]/1e4\n",
    "    I = np.genfromtxt('coronagraph/filters/UBVRI/bess-i.pass')\n",
    "    I[:,0] = I[:,0]/1e4\n",
    "    filters = np.array([U,B,V,R,I])\n",
    "    filter_names = ['U','B','V','R','I']\n",
    "    bandcenters = np.array([365.6, 435.3, 547.7, 634.9, 800.0]) / 1e3\n",
    "    FWHM = np.array([34.0, 78.1, 99.1, 106.56, 289.2]) / 1e3\n",
    "    return filters, filter_names, bandcenters, FWHM"
   ]
  },
  {
   "cell_type": "code",
   "execution_count": 90,
   "metadata": {
    "collapsed": true
   },
   "outputs": [],
   "source": [
    "class johnson_cousins(object):\n",
    "    \n",
    "    def __init__(self):\n",
    "        \n",
    "        filters, filter_names, bandcenters, FWHM = read_jc()\n",
    "        \n",
    "        self.U=Filter(name='U', bandcenter=bandcenters, FWHM=FWHM[0], wl=filters[0][:,0], response=filters[0][:,1])\n",
    "        self.B=Filter(name='B', bandcenter=bandcenters, FWHM=FWHM[1], wl=filters[1][:,0], response=filters[1][:,1])\n",
    "        self.V=Filter(name='V', bandcenter=bandcenters, FWHM=FWHM[2], wl=filters[2][:,0], response=filters[2][:,1])\n",
    "        self.R=Filter(name='R', bandcenter=bandcenters, FWHM=FWHM[3], wl=filters[3][:,0], response=filters[3][:,1])\n",
    "        self.I=Filter(name='I', bandcenter=bandcenters, FWHM=FWHM[4], wl=filters[4][:,0], response=filters[4][:,1])"
   ]
  },
  {
   "cell_type": "code",
   "execution_count": 31,
   "metadata": {
    "collapsed": true
   },
   "outputs": [],
   "source": [
    "jc = johnson_cousins()"
   ]
  },
  {
   "cell_type": "code",
   "execution_count": 32,
   "metadata": {
    "collapsed": false
   },
   "outputs": [
    {
     "name": "stdout",
     "output_type": "stream",
     "text": [
      "Filter: \n",
      "------------\n",
      "- Name : B\n",
      "- Bandcenter (um)  : [ 0.3656  0.4353  0.5477  0.6349  0.8   ]\n",
      "- Full width at half max (um)  : 0.0781\n",
      "- Wavelength array (um)  : [ 0.36  0.37  0.38  0.39  0.4   0.41  0.42  0.43  0.44  0.45  0.46  0.47\n",
      "  0.48  0.49  0.5   0.51  0.52  0.53  0.54  0.55  0.56]\n",
      "- Response : [ 0.     0.03   0.134  0.567  0.92   0.978  1.     0.978  0.935  0.853\n",
      "  0.74   0.64   0.536  0.424  0.325  0.235  0.15   0.095  0.043  0.009  0.   ]\n",
      "- Notes  : \n",
      "\n"
     ]
    }
   ],
   "source": [
    "print jc.B"
   ]
  },
  {
   "cell_type": "code",
   "execution_count": 79,
   "metadata": {
    "collapsed": false
   },
   "outputs": [],
   "source": [
    "def read_landsat():\n",
    "    blue = np.genfromtxt('coronagraph/filters/LANDSAT/Blue.txt', skip_header=1)\n",
    "    green = np.genfromtxt('coronagraph/filters/LANDSAT/Green.txt', skip_header=1)\n",
    "    red = np.genfromtxt('coronagraph/filters/LANDSAT/Red.txt', skip_header=1)\n",
    "    coastal = np.genfromtxt('coronagraph/filters/LANDSAT/CostalAerosol.txt', skip_header=1)\n",
    "    cirrus = np.genfromtxt('coronagraph/filters/LANDSAT/Cirrus.txt', skip_header=1)\n",
    "    nir = np.genfromtxt('coronagraph/filters/LANDSAT/NIR.txt', skip_header=1)\n",
    "    pan = np.genfromtxt('coronagraph/filters/LANDSAT/Pan.txt', skip_header=1)\n",
    "    swir1 = np.genfromtxt('coronagraph/filters/LANDSAT/SWIR1.txt', skip_header=1)\n",
    "    swir2 = np.genfromtxt('coronagraph/filters/LANDSAT/SWIR2.txt', skip_header=1)\n",
    "    LANDSAT_names = ['Coastal Aerosols','Blue','Green','Red','NIR','SWIR1','SWIR2','Pan','Cirrus']\n",
    "    titles = ['wl','response','std','bandwidth','FWHM_low','FWHM_high','bandcenter']\n",
    "    wl = [coastal[:,0]/1e3, blue[:,0]/1e3, green[:,0]/1e3, red[:,0]/1e3, nir[:,0]/1e3, swir1[:,0]/1e3, swir2[:,0]/1e3, pan[:,0]/1e3, cirrus[:,0]/1e3]\n",
    "    response = [coastal[:,1], blue[:,1], green[:,1], red[:,1], nir[:,1], swir1[:,1], swir2[:,1], pan[:,1], cirrus[:,1]]\n",
    "    FWHM = np.array([15.98, 60.04, 57.33, 37.47, 28.25, 84.72, 186.66, 172.40, 20.39]) / 1e3\n",
    "    bandcenters = np.array([442.96, 482.04, 561.41, 654.59, 864.67, 1608.86, 2200.73, 589.50, 1373.43]) / 1e3\n",
    "    return wl, response, LANDSAT_names, FWHM, bandcenters"
   ]
  },
  {
   "cell_type": "code",
   "execution_count": 87,
   "metadata": {
    "collapsed": true
   },
   "outputs": [],
   "source": [
    "class landsat(object):\n",
    "    \n",
    "    def __init__(self):\n",
    "        \n",
    "        wl, response, LANDSAT_names, FWHM, bandcenters = read_landsat()\n",
    "        \n",
    "        self.CA=Filter(name=LANDSAT_names[0], bandcenter=bandcenters[0], FWHM=FWHM[0], wl=wl[0], response=response[0])\n",
    "        self.B=Filter(name=LANDSAT_names[1], bandcenter=bandcenters[1], FWHM=FWHM[1], wl=wl[1], response=response[1])\n",
    "        self.G=Filter(name=LANDSAT_names[2], bandcenter=bandcenters[2], FWHM=FWHM[2], wl=wl[2], response=response[2])\n",
    "        self.R=Filter(name=LANDSAT_names[3], bandcenter=bandcenters[3], FWHM=FWHM[3], wl=wl[3], response=response[3])\n",
    "        self.NIR=Filter(name=LANDSAT_names[4], bandcenter=bandcenters[4], FWHM=FWHM[4], wl=wl[4], response=response[4])\n",
    "        self.SWIR1=Filter(name=LANDSAT_names[5], bandcenter=bandcenters[5], FWHM=FWHM[5], wl=wl[5], response=response[5])\n",
    "        self.SWIR2=Filter(name=LANDSAT_names[6], bandcenter=bandcenters[6], FWHM=FWHM[6], wl=wl[6], response=response[6])\n",
    "        self.Pan=Filter(name=LANDSAT_names[7], bandcenter=bandcenters[7], FWHM=FWHM[7], wl=wl[7], response=response[7])\n",
    "        self.Cirrus=Filter(name=LANDSAT_names[8], bandcenter=bandcenters[8], FWHM=FWHM[8], wl=wl[8], response=response[8])"
   ]
  },
  {
   "cell_type": "code",
   "execution_count": 88,
   "metadata": {
    "collapsed": false
   },
   "outputs": [],
   "source": [
    "lsat = landsat()"
   ]
  },
  {
   "cell_type": "code",
   "execution_count": 91,
   "metadata": {
    "collapsed": false
   },
   "outputs": [
    {
     "name": "stdout",
     "output_type": "stream",
     "text": [
      "Filter: \n",
      "------------\n",
      "- Name : Coastal Aerosols\n",
      "- Bandcenter (um)  : 0.44296\n",
      "- Full width at half max (um)  : 0.01598\n",
      "- Wavelength array (um)  : [ 0.427  0.428  0.429  0.43   0.431  0.432  0.433  0.434  0.435  0.436\n",
      "  0.437  0.438  0.439  0.44   0.441  0.442  0.443  0.444  0.445  0.446\n",
      "  0.447  0.448  0.449  0.45   0.451  0.452  0.453  0.454  0.455  0.456\n",
      "  0.457  0.458  0.459]\n",
      "- Response : [  7.30000000e-05   6.09000000e-04   1.62800000e-03   3.42100000e-03\n",
      "   8.01900000e-03   2.47670000e-02   8.56880000e-02   2.54149000e-01\n",
      "   5.17821000e-01   7.65117000e-01   9.08749000e-01   9.58204000e-01\n",
      "   9.77393000e-01   9.83790000e-01   9.89052000e-01   9.86713000e-01\n",
      "   9.93683000e-01   9.93137000e-01   1.00000000e+00   9.96969000e-01\n",
      "   9.82780000e-01   9.72692000e-01   9.05808000e-01   7.45606000e-01\n",
      "   4.71329000e-01   2.26412000e-01   9.28600000e-02   3.66030000e-02\n",
      "   1.45370000e-02   5.82900000e-03   2.41400000e-03   9.84000000e-04\n",
      "   2.55000000e-04]\n",
      "- Notes  : \n",
      "\n"
     ]
    }
   ],
   "source": [
    "print lsat.CA"
   ]
  },
  {
   "cell_type": "markdown",
   "metadata": {},
   "source": [
    "## The `Shelf` has many `Wheels`, each `Wheel` has many `Filters` "
   ]
  },
  {
   "cell_type": "code",
   "execution_count": 177,
   "metadata": {
    "collapsed": true
   },
   "outputs": [],
   "source": [
    "class Wheel(object): \n",
    "    def __init__(self):\n",
    "        pass\n",
    "    \n",
    "    def add_new_filter(self, filt, name='new_filter'):\n",
    "        setattr(self, name, filt)\n",
    "        \n",
    "    def __str__(self):\n",
    "        string = []\n",
    "        for attr, value in self.__dict__.iteritems():\n",
    "            string.append(attr)\n",
    "        print string \n",
    "        return ''#str(string)"
   ]
  },
  {
   "cell_type": "code",
   "execution_count": 182,
   "metadata": {
    "collapsed": false
   },
   "outputs": [],
   "source": [
    "class Shelf(object):\n",
    "    \n",
    "    def __init__(self):\n",
    "        #self.jc_ubvri=johnson_cousins()\n",
    "        #self.landsat=landsat()\n",
    "        pass\n",
    "    \n",
    "    def add_new_wheel(self, wheel, name='new_wheel'):\n",
    "        setattr(self, name, wheel)\n",
    "        \n",
    "    def __str__(self):\n",
    "        string = []\n",
    "        for attr, value in self.__dict__.iteritems():\n",
    "            string.append(attr)\n",
    "        print string \n",
    "        return ''#str(string)"
   ]
  },
  {
   "cell_type": "code",
   "execution_count": 151,
   "metadata": {
    "collapsed": true
   },
   "outputs": [],
   "source": [
    "shelf = Shelf()"
   ]
  },
  {
   "cell_type": "code",
   "execution_count": 152,
   "metadata": {
    "collapsed": false
   },
   "outputs": [
    {
     "name": "stdout",
     "output_type": "stream",
     "text": [
      "['jc_ubvri', 'landsat']\n"
     ]
    }
   ],
   "source": [
    "print shelf"
   ]
  },
  {
   "cell_type": "code",
   "execution_count": 111,
   "metadata": {
    "collapsed": false
   },
   "outputs": [],
   "source": [
    "setattr(shelf, 'jc_ubvri', johnson_cousins())"
   ]
  },
  {
   "cell_type": "code",
   "execution_count": 112,
   "metadata": {
    "collapsed": true
   },
   "outputs": [],
   "source": [
    "setattr(shelf, 'landsat', landsat())"
   ]
  },
  {
   "cell_type": "code",
   "execution_count": 132,
   "metadata": {
    "collapsed": false
   },
   "outputs": [],
   "source": [
    "custom = Wheel()"
   ]
  },
  {
   "cell_type": "code",
   "execution_count": 114,
   "metadata": {
    "collapsed": true
   },
   "outputs": [],
   "source": [
    "setattr(custom, 'R1', Filter())\n",
    "setattr(custom, 'R2', Filter())"
   ]
  },
  {
   "cell_type": "code",
   "execution_count": 117,
   "metadata": {
    "collapsed": false
   },
   "outputs": [],
   "source": [
    "setattr(shelf, 'josh', custom)"
   ]
  },
  {
   "cell_type": "code",
   "execution_count": 121,
   "metadata": {
    "collapsed": false
   },
   "outputs": [
    {
     "data": {
      "text/plain": [
       "<__main__.Wheel at 0x7f4d56315b10>"
      ]
     },
     "execution_count": 121,
     "metadata": {},
     "output_type": "execute_result"
    }
   ],
   "source": []
  },
  {
   "cell_type": "code",
   "execution_count": 127,
   "metadata": {
    "collapsed": true
   },
   "outputs": [],
   "source": [
    "wof.add_new_wheel(custom)"
   ]
  },
  {
   "cell_type": "code",
   "execution_count": 129,
   "metadata": {
    "collapsed": false
   },
   "outputs": [
    {
     "data": {
      "text/plain": [
       "<__main__.Filter at 0x7f4d56315dd0>"
      ]
     },
     "execution_count": 129,
     "metadata": {},
     "output_type": "execute_result"
    }
   ],
   "source": []
  },
  {
   "cell_type": "code",
   "execution_count": 133,
   "metadata": {
    "collapsed": true
   },
   "outputs": [],
   "source": [
    "custom_wheel = Wheel()"
   ]
  },
  {
   "cell_type": "code",
   "execution_count": 134,
   "metadata": {
    "collapsed": true
   },
   "outputs": [],
   "source": [
    "custom_wheel.add_new_filter(shelf.jc_ubvri.U, name=shelf.jc_ubvri.U.name)"
   ]
  },
  {
   "cell_type": "code",
   "execution_count": 135,
   "metadata": {
    "collapsed": true
   },
   "outputs": [],
   "source": [
    "custom_wheel.add_new_filter(shelf.jc_ubvri.B, name=shelf.jc_ubvri.B.name)"
   ]
  },
  {
   "cell_type": "code",
   "execution_count": 140,
   "metadata": {
    "collapsed": false
   },
   "outputs": [],
   "source": [
    "custom_wheel.add_new_filter(Filter(name='R1', bandcenter=0.45, FWHM=0.05, wl=None, response=None, notes=''), name='new')"
   ]
  },
  {
   "cell_type": "code",
   "execution_count": 142,
   "metadata": {
    "collapsed": false
   },
   "outputs": [
    {
     "name": "stdout",
     "output_type": "stream",
     "text": [
      "Filter: \n",
      "------------\n",
      "- Name : R1\n",
      "- Bandcenter (um)  : 0.45\n",
      "- Full width at half max (um)  : 0.05\n",
      "- Wavelength array (um)  : None\n",
      "- Response : None\n",
      "- Notes  : \n",
      "\n"
     ]
    }
   ],
   "source": [
    "print custom_wheel.new"
   ]
  },
  {
   "cell_type": "code",
   "execution_count": 158,
   "metadata": {
    "collapsed": false
   },
   "outputs": [],
   "source": [
    "def construct_jc(shelf):\n",
    "    \n",
    "    # Add try, except IOError\n",
    "    \n",
    "    # Read in Johnson-Cousins filter data\n",
    "    U = np.genfromtxt('coronagraph/filters/UBVRI/bess-u.pass')\n",
    "    U[:,0] = U[:,0]/1e4\n",
    "    B = np.genfromtxt('coronagraph/filters/UBVRI/bess-b.pass')\n",
    "    B[:,0] = B[:,0]/1e4\n",
    "    V = np.genfromtxt('coronagraph/filters/UBVRI/bess-v.pass')\n",
    "    V[:,0] = V[:,0]/1e4\n",
    "    R = np.genfromtxt('coronagraph/filters/UBVRI/bess-r.pass')\n",
    "    R[:,0] = R[:,0]/1e4\n",
    "    I = np.genfromtxt('coronagraph/filters/UBVRI/bess-i.pass')\n",
    "    I[:,0] = I[:,0]/1e4\n",
    "    filters = np.array([U,B,V,R,I])\n",
    "    filter_names = ['U','B','V','R','I']\n",
    "    bandcenters = np.array([365.6, 435.3, 547.7, 634.9, 800.0]) / 1e3\n",
    "    FWHM = np.array([34.0, 78.1, 99.1, 106.56, 289.2]) / 1e3\n",
    "    \n",
    "    # Create new wheel for filters\n",
    "    new_wheel = Wheel()\n",
    "    \n",
    "    # Create Filters; add to new wheel\n",
    "    for i in range(len(filters)): \n",
    "        filt = Filter(name=filter_names[i], bandcenter=bandcenters[i],FWHM=FWHM[i],\\\n",
    "                      wl=filters[i][:,0], response=filters[i][:,1], notes='Johnson-Cousins')\n",
    "        new_wheel.add_new_filter(filt, name=filter_names[i])\n",
    "        \n",
    "    # Add new wheel to shelf\n",
    "    shelf.add_new_wheel(new_wheel, name='jc_ubvri')\n",
    "        \n",
    "    return \n"
   ]
  },
  {
   "cell_type": "code",
   "execution_count": 205,
   "metadata": {
    "collapsed": true
   },
   "outputs": [],
   "source": [
    "def construct_landsat(shelf):\n",
    "    \n",
    "    \n",
    "    # Read in LANDSAT filter data\n",
    "    blue = np.genfromtxt('coronagraph/filters/LANDSAT/Blue.txt', skip_header=1)\n",
    "    green = np.genfromtxt('coronagraph/filters/LANDSAT/Green.txt', skip_header=1)\n",
    "    red = np.genfromtxt('coronagraph/filters/LANDSAT/Red.txt', skip_header=1)\n",
    "    coastal = np.genfromtxt('coronagraph/filters/LANDSAT/CostalAerosol.txt', skip_header=1)\n",
    "    cirrus = np.genfromtxt('coronagraph/filters/LANDSAT/Cirrus.txt', skip_header=1)\n",
    "    nir = np.genfromtxt('coronagraph/filters/LANDSAT/NIR.txt', skip_header=1)\n",
    "    pan = np.genfromtxt('coronagraph/filters/LANDSAT/Pan.txt', skip_header=1)\n",
    "    swir1 = np.genfromtxt('coronagraph/filters/LANDSAT/SWIR1.txt', skip_header=1)\n",
    "    swir2 = np.genfromtxt('coronagraph/filters/LANDSAT/SWIR2.txt', skip_header=1)\n",
    "    LANDSAT_names = ['Coastal Aerosols','Blue','Green','Red','NIR','SWIR1','SWIR2','Pan','Cirrus']\n",
    "    filter_names = ['CA', 'B', 'G', 'R', 'NIR', 'SWIR1', 'SWIR2', 'Pan', 'Cirrus']\n",
    "    titles = ['wl','response','std','bandwidth','FWHM_low','FWHM_high','bandcenter']\n",
    "    wl = [coastal[:,0]/1e3, blue[:,0]/1e3, green[:,0]/1e3, red[:,0]/1e3, nir[:,0]/1e3, swir1[:,0]/1e3, swir2[:,0]/1e3, pan[:,0]/1e3, cirrus[:,0]/1e3]\n",
    "    response = [coastal[:,1], blue[:,1], green[:,1], red[:,1], nir[:,1], swir1[:,1], swir2[:,1], pan[:,1], cirrus[:,1]]\n",
    "    FWHM = np.array([15.98, 60.04, 57.33, 37.47, 28.25, 84.72, 186.66, 172.40, 20.39]) / 1e3\n",
    "    bandcenters = np.array([442.96, 482.04, 561.41, 654.59, 864.67, 1608.86, 2200.73, 589.50, 1373.43]) / 1e3\n",
    "    \n",
    "    # Create new wheel for filters\n",
    "    new_wheel = Wheel()\n",
    "    \n",
    "    # Create Filters; add to new wheel\n",
    "    for i in range(len(filter_names)): \n",
    "        filt = Filter(name=LANDSAT_names[i], bandcenter=bandcenters[i], FWHM=FWHM[i],\\\n",
    "                      wl=wl[i], response=response[i], notes='LANDSAT')\n",
    "        new_wheel.add_new_filter(filt, name=filter_names[i])\n",
    "    \n",
    "    # Add new wheel to shelf\n",
    "    shelf.add_new_wheel(new_wheel, name='landsat')\n",
    "    \n",
    "    return"
   ]
  },
  {
   "cell_type": "code",
   "execution_count": 221,
   "metadata": {
    "collapsed": true
   },
   "outputs": [],
   "source": [
    "shelf = Shelf()"
   ]
  },
  {
   "cell_type": "code",
   "execution_count": 222,
   "metadata": {
    "collapsed": false
   },
   "outputs": [
    {
     "name": "stdout",
     "output_type": "stream",
     "text": [
      "[]\n",
      "\n"
     ]
    }
   ],
   "source": [
    "print shelf"
   ]
  },
  {
   "cell_type": "code",
   "execution_count": 223,
   "metadata": {
    "collapsed": true
   },
   "outputs": [],
   "source": [
    "construct_jc(shelf)"
   ]
  },
  {
   "cell_type": "code",
   "execution_count": 224,
   "metadata": {
    "collapsed": false
   },
   "outputs": [
    {
     "name": "stdout",
     "output_type": "stream",
     "text": [
      "['jc_ubvri']\n",
      "\n"
     ]
    }
   ],
   "source": [
    "print shelf"
   ]
  },
  {
   "cell_type": "code",
   "execution_count": 225,
   "metadata": {
    "collapsed": false
   },
   "outputs": [
    {
     "name": "stdout",
     "output_type": "stream",
     "text": [
      "['I', 'R', 'B', 'U', 'V']\n",
      "\n"
     ]
    }
   ],
   "source": [
    "print shelf.jc_ubvri"
   ]
  },
  {
   "cell_type": "code",
   "execution_count": 226,
   "metadata": {
    "collapsed": true
   },
   "outputs": [],
   "source": [
    "construct_landsat(shelf)"
   ]
  },
  {
   "cell_type": "code",
   "execution_count": 227,
   "metadata": {
    "collapsed": false
   },
   "outputs": [
    {
     "name": "stdout",
     "output_type": "stream",
     "text": [
      "['jc_ubvri', 'landsat']\n",
      "\n"
     ]
    }
   ],
   "source": [
    "print shelf"
   ]
  },
  {
   "cell_type": "code",
   "execution_count": 228,
   "metadata": {
    "collapsed": false
   },
   "outputs": [
    {
     "name": "stdout",
     "output_type": "stream",
     "text": [
      "['B', 'SWIR1', 'G', 'CA', 'R', 'Cirrus', 'NIR', 'SWIR2', 'Pan']\n",
      "\n"
     ]
    }
   ],
   "source": [
    "print shelf.landsat"
   ]
  },
  {
   "cell_type": "code",
   "execution_count": 230,
   "metadata": {
    "collapsed": false
   },
   "outputs": [],
   "source": [
    "new_wheel = Wheel()"
   ]
  },
  {
   "cell_type": "code",
   "execution_count": 231,
   "metadata": {
    "collapsed": true
   },
   "outputs": [],
   "source": [
    "new_wheel.add_new_filter(shelf.jc_ubvri.U, name='jc_U')\n",
    "new_wheel.add_new_filter(shelf.jc_ubvri.B, name='jc_B')\n",
    "new_wheel.add_new_filter(shelf.landsat.B, name='ls_B')\n",
    "new_wheel.add_new_filter(shelf.landsat.G, name='ls_G')"
   ]
  },
  {
   "cell_type": "code",
   "execution_count": 235,
   "metadata": {
    "collapsed": false
   },
   "outputs": [
    {
     "name": "stdout",
     "output_type": "stream",
     "text": [
      "['ls_B', 'jc_U', 'ls_G', 'jc_B']\n",
      "\n"
     ]
    }
   ],
   "source": [
    "print new_wheel"
   ]
  },
  {
   "cell_type": "code",
   "execution_count": 236,
   "metadata": {
    "collapsed": true
   },
   "outputs": [],
   "source": [
    "shelf.add_new_wheel(new_wheel, name='custom')"
   ]
  },
  {
   "cell_type": "code",
   "execution_count": 240,
   "metadata": {
    "collapsed": false
   },
   "outputs": [
    {
     "name": "stdout",
     "output_type": "stream",
     "text": [
      "['jc_ubvri', 'landsat', 'custom']\n",
      "\n"
     ]
    }
   ],
   "source": [
    "print shelf"
   ]
  },
  {
   "cell_type": "code",
   "execution_count": 241,
   "metadata": {
    "collapsed": false
   },
   "outputs": [
    {
     "name": "stdout",
     "output_type": "stream",
     "text": [
      "['ls_B', 'jc_U', 'ls_G', 'jc_B']\n",
      "\n"
     ]
    }
   ],
   "source": [
    "print shelf.custom"
   ]
  },
  {
   "cell_type": "code",
   "execution_count": 242,
   "metadata": {
    "collapsed": false
   },
   "outputs": [
    {
     "data": {
      "text/plain": [
       "<__main__.Shelf at 0x7f4d56213990>"
      ]
     },
     "execution_count": 242,
     "metadata": {},
     "output_type": "execute_result"
    }
   ],
   "source": [
    "shelf"
   ]
  },
  {
   "cell_type": "code",
   "execution_count": 243,
   "metadata": {
    "collapsed": false
   },
   "outputs": [
    {
     "data": {
      "text/plain": [
       "<__main__.Wheel at 0x7f4d5622b590>"
      ]
     },
     "execution_count": 243,
     "metadata": {},
     "output_type": "execute_result"
    }
   ],
   "source": [
    "shelf.jc_ubvri"
   ]
  },
  {
   "cell_type": "code",
   "execution_count": 244,
   "metadata": {
    "collapsed": false
   },
   "outputs": [
    {
     "data": {
      "text/plain": [
       "<__main__.Filter at 0x7f4d5622b310>"
      ]
     },
     "execution_count": 244,
     "metadata": {},
     "output_type": "execute_result"
    }
   ],
   "source": [
    "shelf.jc_ubvri.B"
   ]
  },
  {
   "cell_type": "code",
   "execution_count": 245,
   "metadata": {
    "collapsed": true
   },
   "outputs": [],
   "source": [
    "def convolve_filter_response(wlhr, fhr, wlf, response):\n",
    "    pass"
   ]
  },
  {
   "cell_type": "code",
   "execution_count": 246,
   "metadata": {
    "collapsed": true
   },
   "outputs": [],
   "source": [
    "def convolve_filter_FWHM(wlhr, fhr, wlc, FWHM):\n",
    "    pass"
   ]
  },
  {
   "cell_type": "code",
   "execution_count": null,
   "metadata": {
    "collapsed": true
   },
   "outputs": [],
   "source": []
  }
 ],
 "metadata": {
  "kernelspec": {
   "display_name": "Python 2",
   "language": "python",
   "name": "python2"
  },
  "language_info": {
   "codemirror_mode": {
    "name": "ipython",
    "version": 2
   },
   "file_extension": ".py",
   "mimetype": "text/x-python",
   "name": "python",
   "nbconvert_exporter": "python",
   "pygments_lexer": "ipython2",
   "version": "2.7.10"
  }
 },
 "nbformat": 4,
 "nbformat_minor": 0
}
